{
 "cells": [
  {
   "cell_type": "code",
   "execution_count": 2,
   "metadata": {},
   "outputs": [
    {
     "data": {
      "text/plain": [
       "[8, 9, 1, 2, 5, 6, 4]"
      ]
     },
     "execution_count": 2,
     "metadata": {},
     "output_type": "execute_result"
    }
   ],
   "source": [
    "# Split the array and add it to the end:\n",
    "\n",
    "def SPL(arr,n,k):\n",
    "    for i in range(0,k):\n",
    "        temp = arr[0]\n",
    "        for i in range(0,n-1):\n",
    "            arr[i]=arr[i+1]\n",
    "        arr[n-1] = temp\n",
    "    return arr\n",
    "arr = [5,6,4,8,9,1,2]\n",
    "k = 3\n",
    "SPL(arr,len(arr),k)"
   ]
  },
  {
   "cell_type": "code",
   "execution_count": 1,
   "metadata": {},
   "outputs": [],
   "source": [
    "# range rotation of arrays\n",
    "\n"
   ]
  },
  {
   "cell_type": "code",
   "execution_count": 6,
   "metadata": {},
   "outputs": [
    {
     "name": "stdout",
     "output_type": "stream",
     "text": [
      "8\n"
     ]
    }
   ],
   "source": [
    "def findKth( arr, n, k): \n",
    "  \n",
    "    missing = dict() \n",
    "    count = 0\n",
    "  \n",
    "    # Insert all the elements in a set \n",
    "    for i in range(n): \n",
    "        missing[arr[i]] = 1\n",
    "  \n",
    "    # Find the maximum and minimum element \n",
    "    maxm = max(arr) \n",
    "    minm = min(arr) \n",
    "  \n",
    "    # Traverse from the minimum to maximum element \n",
    "    for i in range(minm + 1, maxm): \n",
    "          \n",
    "        # Check if \"i\" is missing \n",
    "        if (i not in missing.keys()): \n",
    "            count += 1\n",
    "  \n",
    "        # Check if it is kth missing \n",
    "        if (count == k): \n",
    "            return i \n",
    "      \n",
    "    # If no kth element is missing \n",
    "    return -1\n",
    "  \n",
    "# Driver code \n",
    "arr = [2, 18, 9, 4, 14,16,11 ] \n",
    "n = len(arr) \n",
    "k = 5\n",
    "print(findKth(arr, n, k)) "
   ]
  },
  {
   "cell_type": "code",
   "execution_count": 7,
   "metadata": {},
   "outputs": [
    {
     "data": {
      "text/plain": [
       "[5, 4, 3, 2, 1]"
      ]
     },
     "execution_count": 7,
     "metadata": {},
     "output_type": "execute_result"
    }
   ],
   "source": [
    "def rev(arr,start,end):\n",
    "    while (start<end):\n",
    "        temp = arr[start]\n",
    "        arr[start] = arr[end]\n",
    "        arr[end] = temp\n",
    "        start = start+1\n",
    "        end = end-1\n",
    "    return arr\n",
    "arr = [1,2,3,4,5]\n",
    "rev(arr,0,len(arr)-1)"
   ]
  },
  {
   "cell_type": "code",
   "execution_count": 22,
   "metadata": {},
   "outputs": [
    {
     "data": {
      "text/plain": [
       "[5, 6, 1, 2, 3, 4]"
      ]
     },
     "execution_count": 22,
     "metadata": {},
     "output_type": "execute_result"
    }
   ],
   "source": [
    "def rev(arr,start,end):\n",
    "    while (start<end):\n",
    "        temp = arr[start]\n",
    "        arr[start] = arr[end]\n",
    "        arr[end] = temp\n",
    "        start = start+1\n",
    "        end = end-1\n",
    "    return arr\n",
    "def LFR(arr,n,d):\n",
    "    n = len(arr)\n",
    "    rev(arr,0,d-1)\n",
    "    rev(arr,d,n-1)\n",
    "    rev(arr,0,n-1)\n",
    "    return arr\n",
    "arr = [1,2,3,4,5,6]\n",
    "n = len(arr)\n",
    "d = 4\n",
    "LFR(arr,n,d)\n",
    "    "
   ]
  },
  {
   "cell_type": "code",
   "execution_count": 9,
   "metadata": {},
   "outputs": [
    {
     "data": {
      "text/plain": [
       "[2, 3, 4, 7, 1]"
      ]
     },
     "execution_count": 9,
     "metadata": {},
     "output_type": "execute_result"
    }
   ],
   "source": [
    "def LR(a,n,d):\n",
    "    for i in range(d):\n",
    "        return ROT(a,n)\n",
    "def ROT(a,n):\n",
    "    temp = a[0]\n",
    "    for i in range(len(a)-1):\n",
    "        \n",
    "        a[i] = a[i+1]\n",
    "    a[n-1] = temp\n",
    "    return a\n",
    "\n",
    "arr = [1,2,3,4,7]\n",
    "d = 1\n",
    "n = len(arr)\n",
    "LR(arr,n,d)"
   ]
  },
  {
   "cell_type": "code",
   "execution_count": 11,
   "metadata": {},
   "outputs": [
    {
     "data": {
      "text/plain": [
       "[5, 6, 1, 8, 7]"
      ]
     },
     "execution_count": 11,
     "metadata": {},
     "output_type": "execute_result"
    }
   ],
   "source": [
    "def lft(arr,d):\n",
    "    for i in range(d):\n",
    "        temp = arr[0]\n",
    "        arr.remove(temp)\n",
    "        arr.append(temp)\n",
    "    return arr\n",
    "arr = [8,7,5,6,1]\n",
    "lft(arr,2)"
   ]
  },
  {
   "cell_type": "code",
   "execution_count": 18,
   "metadata": {},
   "outputs": [
    {
     "data": {
      "text/plain": [
       "[3, 4, 1, 2]"
      ]
     },
     "execution_count": 18,
     "metadata": {},
     "output_type": "execute_result"
    }
   ],
   "source": [
    "def rt(arr,d,n):\n",
    "    for i in range(d):\n",
    "        temp = arr[n-1]\n",
    "        arr.remove(temp)\n",
    "        arr.insert(0,temp)\n",
    "    return arr\n",
    "arr = [1,2,3,4]\n",
    "n = len(arr)\n",
    "rt(arr,2,n)"
   ]
  },
  {
   "cell_type": "code",
   "execution_count": 49,
   "metadata": {},
   "outputs": [
    {
     "name": "stdout",
     "output_type": "stream",
     "text": [
      "[3, 4, 5, 8, 9]\n"
     ]
    }
   ],
   "source": [
    "arr = [5,4,8,9,3]\n",
    "arr.sort()\n",
    "print(arr)"
   ]
  },
  {
   "cell_type": "code",
   "execution_count": 31,
   "metadata": {},
   "outputs": [
    {
     "data": {
      "text/plain": [
       "4"
      ]
     },
     "execution_count": 31,
     "metadata": {},
     "output_type": "execute_result"
    }
   ],
   "source": [
    "#K th missing element in the sorted array:\n",
    "\n",
    "def KMISS(arr,n,k):\n",
    "    arr.sort()\n",
    "    missing = []\n",
    "    mini = arr[0]\n",
    "    n = len(arr)\n",
    "    maxi = arr[n-1]\n",
    "    for i in range(mini+1,maxi):\n",
    "        \n",
    "        if i not in arr:\n",
    "            missing.append(i)\n",
    "    return missing[k-1]\n",
    "\n",
    "   \n",
    "\n",
    "arr = [2,6,7]\n",
    "k = 2\n",
    "KMISS(arr,n,k)\n",
    "    "
   ]
  },
  {
   "cell_type": "code",
   "execution_count": 29,
   "metadata": {},
   "outputs": [
    {
     "data": {
      "text/plain": [
       "-1"
      ]
     },
     "execution_count": 29,
     "metadata": {},
     "output_type": "execute_result"
    }
   ],
   "source": [
    "def kmis(arr,n,k):\n",
    "    missing  = dict()\n",
    "    count = 0\n",
    "    maxi = max(arr)\n",
    "    mini = min(arr)\n",
    "    for i in range(mini+1,maxi):\n",
    "        if (i not in missing.keys()):\n",
    "            count +=1\n",
    "        if (count == k):\n",
    "            return i\n",
    "    return -1\n",
    "\n",
    "arr = [2,6,10,8]\n",
    "k = 15\n",
    "n = len(arr)\n",
    "kmis(arr,n,k)"
   ]
  },
  {
   "cell_type": "code",
   "execution_count": null,
   "metadata": {},
   "outputs": [],
   "source": [
    "# removing the duplicates from the array;\n"
   ]
  },
  {
   "cell_type": "code",
   "execution_count": 43,
   "metadata": {},
   "outputs": [
    {
     "name": "stdout",
     "output_type": "stream",
     "text": [
      "[1, 2, 3, 4, 5, 6, 7, 8, 9, 10, 11, 14, 13, 16, 15]\n"
     ]
    }
   ],
   "source": [
    "arr = [1,1,2,2,2,3,4,5,6,7,8,7,8,7,9,4,5,6,10,11,14,11,14,13,16,15]\n",
    "no_dup = []\n",
    "for i in arr:\n",
    "    if i not in no_dup:\n",
    "        no_dup.append(i)\n",
    "print(no_dup)\n"
   ]
  },
  {
   "cell_type": "code",
   "execution_count": 63,
   "metadata": {},
   "outputs": [
    {
     "name": "stdout",
     "output_type": "stream",
     "text": [
      "[3, 5, 9, 5, 7, 11, 13, 15, 19]\n"
     ]
    }
   ],
   "source": [
    "a1 = [1,3,11]\n",
    "a2  = [2,4,8]\n",
    "summations = []\n",
    "lst = []\n",
    "for i in a1:\n",
    "    for j in a2:\n",
    "        summations.append(i+j)\n",
    "print(summations)\n",
    "\n",
    "\n",
    "    \n"
   ]
  },
  {
   "cell_type": "code",
   "execution_count": 4,
   "metadata": {},
   "outputs": [
    {
     "name": "stdout",
     "output_type": "stream",
     "text": [
      "1 2 1 4 1 8 3 2 3 4 3 8 11 2 11 4 11 8 "
     ]
    }
   ],
   "source": [
    "import sys\n",
    "minsum = sys.maxsize\n",
    "a1 = [1,3,11]\n",
    "a2 = [2,4,8]\n",
    "n1 = len(a1)\n",
    "n2 = len(a2)\n",
    "for i in range(0,n1,1):\n",
    "    for j in range(0,n2,1):\n",
    "        if (i+j)<minsum:\n",
    "            minsum = (i+j)\n",
    "        print(a1[i],a2[j],end =\" \")\n"
   ]
  },
  {
   "cell_type": "code",
   "execution_count": 28,
   "metadata": {},
   "outputs": [
    {
     "name": "stdout",
     "output_type": "stream",
     "text": [
      "[11, 1, 10, 2, 9, 3, 8, 4, 7, 5, 6]\n"
     ]
    }
   ],
   "source": [
    "# array in maximum and minimum form\n",
    "arr = [1,2,3,4,5,6,7,8,9,10,11]\n",
    "result = []\n",
    "\n",
    "start = 0 \n",
    "end = (len(arr)-1)\n",
    "while (start<end):\n",
    "    result.append(arr[end])\n",
    "    result.append(arr[start])\n",
    "    start = start+1\n",
    "    end = end-1\n",
    "if start == end:\n",
    "    result.append(arr[end])\n",
    "\n",
    "        \n",
    "print(result)\n",
    "\n",
    "    \n",
    "    "
   ]
  },
  {
   "cell_type": "code",
   "execution_count": 29,
   "metadata": {},
   "outputs": [
    {
     "data": {
      "text/plain": [
       "1"
      ]
     },
     "execution_count": 29,
     "metadata": {},
     "output_type": "execute_result"
    }
   ],
   "source": [
    "arr = [9,5,6,4,2,3,1,10]\n",
    "min(arr)\n",
    "    "
   ]
  },
  {
   "cell_type": "code",
   "execution_count": 31,
   "metadata": {},
   "outputs": [
    {
     "data": {
      "text/plain": [
       "6"
      ]
     },
     "execution_count": 31,
     "metadata": {},
     "output_type": "execute_result"
    }
   ],
   "source": [
    "# pair count in the array x<y\n",
    "\n",
    "def countpair(arr,n):\n",
    "    count = 0\n",
    "    for i in range(n):\n",
    "        for j in range(n):\n",
    "            if arr[i]<arr[j]:\n",
    "                count += 1\n",
    "    return count\n",
    "arr = [1,2,3,4]\n",
    "countpair(arr,len(arr))"
   ]
  },
  {
   "cell_type": "code",
   "execution_count": 36,
   "metadata": {},
   "outputs": [
    {
     "name": "stdout",
     "output_type": "stream",
     "text": [
      "{(1, 3), (2, 1), (5, 1), (2, 5), (1, 2), (3, 3), (5, 5), (4, 4), (1, 5), (2, 2), (4, 1), (1, 1), (3, 2), (5, 4), (4, 5), (5, 2), (1, 4), (2, 3), (4, 2), (3, 5), (5, 3), (3, 1), (4, 3), (3, 4), (2, 4)}\n"
     ]
    },
    {
     "data": {
      "text/plain": [
       "25"
      ]
     },
     "execution_count": 36,
     "metadata": {},
     "output_type": "execute_result"
    }
   ],
   "source": [
    "# count of unique pairs:\n",
    "\n",
    "def CountUniquePair(arr,n):\n",
    "    s = set()\n",
    "    for i in range(n):\n",
    "        for j in range(n):\n",
    "            s.add((arr[i],arr[j]))\n",
    "    print(s)\n",
    "    return len(s)\n",
    "arr = [1,2,3,4,5]\n",
    "n = len(arr)\n",
    "CountUniquePair(arr,n)"
   ]
  },
  {
   "cell_type": "code",
   "execution_count": 47,
   "metadata": {},
   "outputs": [
    {
     "data": {
      "text/plain": [
       "3"
      ]
     },
     "execution_count": 47,
     "metadata": {},
     "output_type": "execute_result"
    }
   ],
   "source": [
    "# finding the elemnts count that divides the sum of all other elements\n",
    "\n",
    "def cod(arr,n):\n",
    "    count = 0\n",
    "    for i in range(n):\n",
    "        if ((sum(arr)-arr[i])%arr[i]) == 0:\n",
    "            count += 1\n",
    "    return count\n",
    "arr = [3,10,4,6,7]\n",
    "n  = len(arr)\n",
    "cod(arr,n)"
   ]
  },
  {
   "cell_type": "code",
   "execution_count": 4,
   "metadata": {},
   "outputs": [
    {
     "data": {
      "text/plain": [
       "1"
      ]
     },
     "execution_count": 4,
     "metadata": {},
     "output_type": "execute_result"
    }
   ],
   "source": [
    "arr.index(2)"
   ]
  },
  {
   "cell_type": "code",
   "execution_count": 40,
   "metadata": {},
   "outputs": [
    {
     "name": "stdout",
     "output_type": "stream",
     "text": [
      "[0, 4]\n"
     ]
    }
   ],
   "source": [
    "#leet code two sum:\n",
    "    \n",
    "arr = [1,2,3,4,8]\n",
    "list1 = []\n",
    "target = 9\n",
    "k=0\n",
    "for i in arr:\n",
    "    k+=1\n",
    "    if target-i in arr[k:]:\n",
    "        list1.append(k-1)\n",
    "        list1.append(arr[k:].index(target-i)+k)\n",
    "print(list1)\n",
    "    "
   ]
  },
  {
   "cell_type": "code",
   "execution_count": 70,
   "metadata": {},
   "outputs": [
    {
     "name": "stdout",
     "output_type": "stream",
     "text": [
      "101\n"
     ]
    }
   ],
   "source": [
    "arr = [100,9,10,2,3,4,45,54,12,11,17,19,101,91,1,89,0,84,57,-58]\n",
    "\n",
    "maxi = arr[0]\n",
    "for i in arr[1:]:\n",
    "    if i>maxi:\n",
    "        maxi = i\n",
    "print(maxi)"
   ]
  },
  {
   "cell_type": "code",
   "execution_count": 87,
   "metadata": {},
   "outputs": [
    {
     "name": "stdout",
     "output_type": "stream",
     "text": [
      "7\n",
      "0\n",
      "4\n"
     ]
    }
   ],
   "source": [
    "arr = [2,4,6,8,10,5,7,9,12,14,13]\n",
    "even = []\n",
    "odd = []\n",
    "prime = []\n",
    "for i in arr:\n",
    "    if i%2 ==0:\n",
    "        even.append(i)\n",
    "    else:\n",
    "        odd.append(i)\n",
    "        \n",
    "print(len(even))\n",
    "print(len(odd))\n",
    "\n",
    "\n",
    "    \n",
    "    \n",
    "        "
   ]
  },
  {
   "cell_type": "code",
   "execution_count": 94,
   "metadata": {},
   "outputs": [
    {
     "name": "stdout",
     "output_type": "stream",
     "text": [
      "[]\n"
     ]
    }
   ],
   "source": [
    "arr = [2,4,6,8,10,5,7,9,12,14,13]\n",
    "p = []\n",
    "def isprime(arr):\n",
    "    for i in range(len(arr)-1):\n",
    "        if arr[i]<=1:\n",
    "            return False\n",
    "        \n",
    "        if (i%1 == 0 and i%i != 0):\n",
    "            p.append(i)\n",
    "print(p)"
   ]
  },
  {
   "cell_type": "code",
   "execution_count": 84,
   "metadata": {},
   "outputs": [
    {
     "data": {
      "text/plain": [
       "11"
      ]
     },
     "execution_count": 84,
     "metadata": {},
     "output_type": "execute_result"
    }
   ],
   "source": [
    "11//1"
   ]
  },
  {
   "cell_type": "code",
   "execution_count": null,
   "metadata": {},
   "outputs": [],
   "source": []
  }
 ],
 "metadata": {
  "kernelspec": {
   "display_name": "Python 3",
   "language": "python",
   "name": "python3"
  },
  "language_info": {
   "codemirror_mode": {
    "name": "ipython",
    "version": 3
   },
   "file_extension": ".py",
   "mimetype": "text/x-python",
   "name": "python",
   "nbconvert_exporter": "python",
   "pygments_lexer": "ipython3",
   "version": "3.7.0"
  }
 },
 "nbformat": 4,
 "nbformat_minor": 2
}
